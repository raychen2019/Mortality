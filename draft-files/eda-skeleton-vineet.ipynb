{
 "cells": [
  {
   "cell_type": "code",
   "execution_count": 112,
   "metadata": {},
   "outputs": [],
   "source": [
    "%matplotlib inline\n",
    "import math\n",
    "import numpy as np\n",
    "import pandas as pd\n",
    "import seaborn as sns\n",
    "import matplotlib.pyplot as plt\n",
    "\n",
    "from sklearn.model_selection import train_test_split\n",
    "from sklearn.preprocessing import PolynomialFeatures\n",
    "from sklearn.preprocessing import StandardScaler\n",
    "from sklearn.model_selection import cross_validate\n",
    "from sklearn.metrics import mean_squared_error\n",
    "\n",
    "from sklearn.linear_model import LinearRegression\n",
    "from sklearn.neighbors import KNeighborsClassifier\n",
    "from sklearn.linear_model import LogisticRegression\n",
    "from sklearn.linear_model import LogisticRegressionCV\n",
    "from sklearn.neighbors import KNeighborsRegressor\n",
    "from sklearn.ensemble import AdaBoostClassifier\n",
    "from sklearn.tree import DecisionTreeClassifier\n",
    "\n",
    "from sklearn.metrics import accuracy_score\n",
    "from sklearn.metrics import roc_curve\n",
    "from sklearn.metrics import roc_auc_score\n",
    "\n",
    "from sklearn.impute import KNNImputer\n",
    "\n",
    "np.random.seed(109)"
   ]
  },
  {
   "cell_type": "code",
   "execution_count": 49,
   "metadata": {},
   "outputs": [
    {
     "data": {
      "text/plain": [
       "(array([1525., 2527., 1613.,    4.,  160.,  163.,   44.,   21.,   10.,\n",
       "           7.,    3.,    0.,    0.,    0.,    0.,  518.,  192.,  211.,\n",
       "         214.,  229.,  239.,  257.,  247.,  315.,  304.,  278.,  294.,\n",
       "         280.,  196.,   81.]),\n",
       " array([-22.0586758 , -20.60767123, -19.15666667, -17.7056621 ,\n",
       "        -16.25465753, -14.80365297, -13.3526484 , -11.90164384,\n",
       "        -10.45063927,  -8.9996347 ,  -7.54863014,  -6.09762557,\n",
       "         -4.646621  ,  -3.19561644,  -1.74461187,  -0.29360731,\n",
       "          1.15739726,   2.60840183,   4.05940639,   5.51041096,\n",
       "          6.96141553,   8.41242009,   9.86342466,  11.31442922,\n",
       "         12.76543379,  14.21643836,  15.66744292,  17.11844749,\n",
       "         18.56945205,  20.02045662,  21.47146119]),\n",
       " <BarContainer object of 30 artists>)"
      ]
     },
     "execution_count": 49,
     "metadata": {},
     "output_type": "execute_result"
    },
    {
     "data": {
      "image/png": "[encoded data removed]",
      "text/plain": [
       "<Figure size 432x288 with 1 Axes>"
      ]
     },
     "metadata": {
      "needs_background": "light"
     },
     "output_type": "display_data"
    }
   ],
   "source": [
    "X_data = pd.read_csv('NHANESI_X.csv')\n",
    "y_data = pd.read_csv('NHANESI_y.csv')\n",
    "\n",
    "X_data = X_data.drop('Unnamed: 0', axis = 1)\n",
    "y_data = y_data.drop('Unnamed: 0', axis = 1)\n",
    "\n",
    "plt.hist(x=y_data.values, bins=30)"
   ]
  },
  {
   "cell_type": "code",
   "execution_count": 50,
   "metadata": {},
   "outputs": [
    {
     "name": "stdout",
     "output_type": "stream",
     "text": [
      "1    6048\n",
      "0    3884\n",
      "Name: y, dtype: int64\n",
      "(9932, 18)\n",
      "(9932, 1)\n",
      "(7945, 18) (1987, 18)\n",
      "(7945, 1) (1987, 1)\n"
     ]
    }
   ],
   "source": [
    "y_data['y'] = (abs(y_data['y'])>=18)*1\n",
    "\n",
    "print(y_data['y'].value_counts())\n",
    "\n",
    "X_train, X_test, y_train, y_test = train_test_split(\n",
    "    X_data, y_data, test_size=0.2,  random_state = 109, shuffle=True, stratify=y_data['y']\n",
    ")\n",
    "\n",
    "print(X_data.shape)\n",
    "print(y_data.shape)\n",
    "print(X_train.shape,X_test.shape)\n",
    "print(y_train.shape,y_test.shape)"
   ]
  },
  {
   "cell_type": "code",
   "execution_count": 51,
   "metadata": {},
   "outputs": [
    {
     "data": {
      "text/html": [
       "<div>\n",
       "<style scoped>\n",
       "    .dataframe tbody tr th:only-of-type {\n",
       "        vertical-align: middle;\n",
       "    }\n",
       "\n",
       "    .dataframe tbody tr th {\n",
       "        vertical-align: top;\n",
       "    }\n",
       "\n",
       "    .dataframe thead th {\n",
       "        text-align: right;\n",
       "    }\n",
       "</style>\n",
       "<table border=\"1\" class=\"dataframe\">\n",
       "  <thead>\n",
       "    <tr style=\"text-align: right;\">\n",
       "      <th></th>\n",
       "      <th>Age</th>\n",
       "      <th>Diastolic BP</th>\n",
       "      <th>Poverty index</th>\n",
       "      <th>Race</th>\n",
       "      <th>Red blood cells</th>\n",
       "      <th>Sedimentation rate</th>\n",
       "      <th>Serum Albumin</th>\n",
       "      <th>Serum Cholesterol</th>\n",
       "      <th>Serum Iron</th>\n",
       "      <th>Serum Magnesium</th>\n",
       "      <th>Serum Protein</th>\n",
       "      <th>Sex</th>\n",
       "      <th>Systolic BP</th>\n",
       "      <th>TIBC</th>\n",
       "      <th>TS</th>\n",
       "      <th>White blood cells</th>\n",
       "      <th>BMI</th>\n",
       "      <th>Pulse pressure</th>\n",
       "    </tr>\n",
       "  </thead>\n",
       "  <tbody>\n",
       "    <tr>\n",
       "      <th>0</th>\n",
       "      <td>35.0</td>\n",
       "      <td>92.0</td>\n",
       "      <td>126.0</td>\n",
       "      <td>2.0</td>\n",
       "      <td>77.7</td>\n",
       "      <td>12.0</td>\n",
       "      <td>5.0</td>\n",
       "      <td>165.0</td>\n",
       "      <td>135.0</td>\n",
       "      <td>1.37</td>\n",
       "      <td>7.6</td>\n",
       "      <td>2.0</td>\n",
       "      <td>142.0</td>\n",
       "      <td>323.0</td>\n",
       "      <td>41.8</td>\n",
       "      <td>5.8</td>\n",
       "      <td>31.109434</td>\n",
       "      <td>50.0</td>\n",
       "    </tr>\n",
       "    <tr>\n",
       "      <th>1</th>\n",
       "      <td>71.0</td>\n",
       "      <td>78.0</td>\n",
       "      <td>210.0</td>\n",
       "      <td>2.0</td>\n",
       "      <td>77.7</td>\n",
       "      <td>37.0</td>\n",
       "      <td>4.0</td>\n",
       "      <td>298.0</td>\n",
       "      <td>89.0</td>\n",
       "      <td>1.38</td>\n",
       "      <td>6.4</td>\n",
       "      <td>2.0</td>\n",
       "      <td>156.0</td>\n",
       "      <td>331.0</td>\n",
       "      <td>26.9</td>\n",
       "      <td>5.3</td>\n",
       "      <td>32.362572</td>\n",
       "      <td>78.0</td>\n",
       "    </tr>\n",
       "    <tr>\n",
       "      <th>2</th>\n",
       "      <td>74.0</td>\n",
       "      <td>86.0</td>\n",
       "      <td>999.0</td>\n",
       "      <td>2.0</td>\n",
       "      <td>77.7</td>\n",
       "      <td>31.0</td>\n",
       "      <td>3.8</td>\n",
       "      <td>222.0</td>\n",
       "      <td>115.0</td>\n",
       "      <td>1.37</td>\n",
       "      <td>7.4</td>\n",
       "      <td>2.0</td>\n",
       "      <td>170.0</td>\n",
       "      <td>299.0</td>\n",
       "      <td>38.5</td>\n",
       "      <td>8.1</td>\n",
       "      <td>25.388497</td>\n",
       "      <td>84.0</td>\n",
       "    </tr>\n",
       "    <tr>\n",
       "      <th>3</th>\n",
       "      <td>64.0</td>\n",
       "      <td>92.0</td>\n",
       "      <td>385.0</td>\n",
       "      <td>1.0</td>\n",
       "      <td>77.7</td>\n",
       "      <td>30.0</td>\n",
       "      <td>4.3</td>\n",
       "      <td>265.0</td>\n",
       "      <td>94.0</td>\n",
       "      <td>1.97</td>\n",
       "      <td>7.3</td>\n",
       "      <td>2.0</td>\n",
       "      <td>172.0</td>\n",
       "      <td>349.0</td>\n",
       "      <td>26.9</td>\n",
       "      <td>6.7</td>\n",
       "      <td>26.446610</td>\n",
       "      <td>80.0</td>\n",
       "    </tr>\n",
       "    <tr>\n",
       "      <th>4</th>\n",
       "      <td>32.0</td>\n",
       "      <td>70.0</td>\n",
       "      <td>183.0</td>\n",
       "      <td>2.0</td>\n",
       "      <td>77.7</td>\n",
       "      <td>18.0</td>\n",
       "      <td>5.0</td>\n",
       "      <td>203.0</td>\n",
       "      <td>192.0</td>\n",
       "      <td>1.35</td>\n",
       "      <td>7.3</td>\n",
       "      <td>1.0</td>\n",
       "      <td>128.0</td>\n",
       "      <td>386.0</td>\n",
       "      <td>49.7</td>\n",
       "      <td>8.1</td>\n",
       "      <td>20.354684</td>\n",
       "      <td>58.0</td>\n",
       "    </tr>\n",
       "  </tbody>\n",
       "</table>\n",
       "</div>"
      ],
      "text/plain": [
       "    Age  Diastolic BP  Poverty index  Race  Red blood cells  \\\n",
       "0  35.0          92.0          126.0   2.0             77.7   \n",
       "1  71.0          78.0          210.0   2.0             77.7   \n",
       "2  74.0          86.0          999.0   2.0             77.7   \n",
       "3  64.0          92.0          385.0   1.0             77.7   \n",
       "4  32.0          70.0          183.0   2.0             77.7   \n",
       "\n",
       "   Sedimentation rate  Serum Albumin  Serum Cholesterol  Serum Iron  \\\n",
       "0                12.0            5.0              165.0       135.0   \n",
       "1                37.0            4.0              298.0        89.0   \n",
       "2                31.0            3.8              222.0       115.0   \n",
       "3                30.0            4.3              265.0        94.0   \n",
       "4                18.0            5.0              203.0       192.0   \n",
       "\n",
       "   Serum Magnesium  Serum Protein  Sex  Systolic BP   TIBC    TS  \\\n",
       "0             1.37            7.6  2.0        142.0  323.0  41.8   \n",
       "1             1.38            6.4  2.0        156.0  331.0  26.9   \n",
       "2             1.37            7.4  2.0        170.0  299.0  38.5   \n",
       "3             1.97            7.3  2.0        172.0  349.0  26.9   \n",
       "4             1.35            7.3  1.0        128.0  386.0  49.7   \n",
       "\n",
       "   White blood cells        BMI  Pulse pressure  \n",
       "0                5.8  31.109434            50.0  \n",
       "1                5.3  32.362572            78.0  \n",
       "2                8.1  25.388497            84.0  \n",
       "3                6.7  26.446610            80.0  \n",
       "4                8.1  20.354684            58.0  "
      ]
     },
     "execution_count": 51,
     "metadata": {},
     "output_type": "execute_result"
    }
   ],
   "source": [
    "X_data.head()"
   ]
  },
  {
   "cell_type": "code",
   "execution_count": 52,
   "metadata": {},
   "outputs": [
    {
     "data": {
      "text/html": [
       "<div>\n",
       "<style scoped>\n",
       "    .dataframe tbody tr th:only-of-type {\n",
       "        vertical-align: middle;\n",
       "    }\n",
       "\n",
       "    .dataframe tbody tr th {\n",
       "        vertical-align: top;\n",
       "    }\n",
       "\n",
       "    .dataframe thead th {\n",
       "        text-align: right;\n",
       "    }\n",
       "</style>\n",
       "<table border=\"1\" class=\"dataframe\">\n",
       "  <thead>\n",
       "    <tr style=\"text-align: right;\">\n",
       "      <th></th>\n",
       "      <th>y</th>\n",
       "    </tr>\n",
       "  </thead>\n",
       "  <tbody>\n",
       "    <tr>\n",
       "      <th>0</th>\n",
       "      <td>0</td>\n",
       "    </tr>\n",
       "    <tr>\n",
       "      <th>1</th>\n",
       "      <td>0</td>\n",
       "    </tr>\n",
       "    <tr>\n",
       "      <th>2</th>\n",
       "      <td>0</td>\n",
       "    </tr>\n",
       "    <tr>\n",
       "      <th>3</th>\n",
       "      <td>1</td>\n",
       "    </tr>\n",
       "    <tr>\n",
       "      <th>4</th>\n",
       "      <td>0</td>\n",
       "    </tr>\n",
       "  </tbody>\n",
       "</table>\n",
       "</div>"
      ],
      "text/plain": [
       "   y\n",
       "0  0\n",
       "1  0\n",
       "2  0\n",
       "3  1\n",
       "4  0"
      ]
     },
     "execution_count": 52,
     "metadata": {},
     "output_type": "execute_result"
    }
   ],
   "source": [
    "y_data.head()"
   ]
  },
  {
   "cell_type": "code",
   "execution_count": 53,
   "metadata": {},
   "outputs": [
    {
     "name": "stdout",
     "output_type": "stream",
     "text": [
      "X_data # of null values for each predictor:\n",
      "Age                   1339\n",
      "Diastolic BP          1281\n",
      "Poverty index         1339\n",
      "Race                  1339\n",
      "Red blood cells       1339\n",
      "Sedimentation rate     513\n",
      "Serum Albumin         1339\n",
      "Serum Cholesterol     1339\n",
      "Serum Iron            1339\n",
      "Serum Magnesium       1339\n",
      "Serum Protein         1339\n",
      "Sex                   1339\n",
      "Systolic BP           1282\n",
      "TIBC                  1339\n",
      "TS                    1339\n",
      "White blood cells      298\n",
      "BMI                   1339\n",
      "Pulse pressure        1280\n",
      "dtype: int64\n",
      "\n",
      "y_data # of null values for the prediction:\n",
      "y    0\n",
      "dtype: int64\n",
      "Index(['Age', 'Diastolic BP', 'Poverty index', 'Race', 'Red blood cells',\n",
      "       'Sedimentation rate', 'Serum Albumin', 'Serum Cholesterol',\n",
      "       'Serum Iron', 'Serum Magnesium', 'Serum Protein', 'Sex', 'Systolic BP',\n",
      "       'TIBC', 'TS', 'White blood cells', 'BMI', 'Pulse pressure'],\n",
      "      dtype='object')\n",
      "Index(['y'], dtype='object')\n"
     ]
    }
   ],
   "source": [
    "print(\"X_data # of null values for each predictor:\")\n",
    "print(X_data[X_data.isnull().any(axis=1)].count())\n",
    "print(\"\\ny_data # of null values for the prediction:\")\n",
    "print(y_data[y_data.isnull().any(axis=1)].count())\n",
    "\n",
    "print(X_data.columns)\n",
    "print(y_data.columns)\n",
    "\n"
   ]
  },
  {
   "cell_type": "code",
   "execution_count": 54,
   "metadata": {},
   "outputs": [
    {
     "name": "stdout",
     "output_type": "stream",
     "text": [
      "(9932, 19)\n",
      "(8593, 19)\n",
      "(8593, 18)\n",
      "(8593, 1)\n"
     ]
    }
   ],
   "source": [
    "#X_data_dropped = X_data.dropna()\n",
    "#y_data_dropped = y_data.dropna()\n",
    "combined = pd.concat([X_data, y_data], axis = 1)\n",
    "print(combined.shape)\n",
    "\n",
    "combined_dropped = combined.dropna()\n",
    "\n",
    "print(combined_dropped.shape)\n",
    "\n",
    "X_data_dropped = combined_dropped[['Age', 'Diastolic BP', 'Poverty index', 'Race', 'Red blood cells',\n",
    "       'Sedimentation rate', 'Serum Albumin', 'Serum Cholesterol',\n",
    "       'Serum Iron', 'Serum Magnesium', 'Serum Protein', 'Sex', 'Systolic BP',\n",
    "       'TIBC', 'TS', 'White blood cells', 'BMI', 'Pulse pressure']]\n",
    "y_data_dropped = combined_dropped[['y']]\n",
    "\n",
    "print(X_data_dropped.shape)\n",
    "print(y_data_dropped.shape)\n",
    "\n",
    "\n",
    "#knn imputer.fit\n",
    "#choose number of transmitter\n"
   ]
  },
  {
   "cell_type": "code",
   "execution_count": 55,
   "metadata": {},
   "outputs": [
    {
     "data": {
      "text/html": [
       "<div>\n",
       "<style scoped>\n",
       "    .dataframe tbody tr th:only-of-type {\n",
       "        vertical-align: middle;\n",
       "    }\n",
       "\n",
       "    .dataframe tbody tr th {\n",
       "        vertical-align: top;\n",
       "    }\n",
       "\n",
       "    .dataframe thead th {\n",
       "        text-align: right;\n",
       "    }\n",
       "</style>\n",
       "<table border=\"1\" class=\"dataframe\">\n",
       "  <thead>\n",
       "    <tr style=\"text-align: right;\">\n",
       "      <th></th>\n",
       "      <th>Age</th>\n",
       "      <th>Diastolic BP</th>\n",
       "      <th>Poverty index</th>\n",
       "      <th>Race</th>\n",
       "      <th>Red blood cells</th>\n",
       "      <th>Sedimentation rate</th>\n",
       "      <th>Serum Albumin</th>\n",
       "      <th>Serum Cholesterol</th>\n",
       "      <th>Serum Iron</th>\n",
       "      <th>Serum Magnesium</th>\n",
       "      <th>Serum Protein</th>\n",
       "      <th>Sex</th>\n",
       "      <th>Systolic BP</th>\n",
       "      <th>TIBC</th>\n",
       "      <th>TS</th>\n",
       "      <th>White blood cells</th>\n",
       "      <th>BMI</th>\n",
       "      <th>Pulse pressure</th>\n",
       "      <th>y</th>\n",
       "    </tr>\n",
       "  </thead>\n",
       "  <tbody>\n",
       "    <tr>\n",
       "      <th>0</th>\n",
       "      <td>74.0</td>\n",
       "      <td>80.0</td>\n",
       "      <td>120.0</td>\n",
       "      <td>1.0</td>\n",
       "      <td>44.8</td>\n",
       "      <td>6.0</td>\n",
       "      <td>4.2</td>\n",
       "      <td>239.0</td>\n",
       "      <td>51.0</td>\n",
       "      <td>1.52</td>\n",
       "      <td>7.4</td>\n",
       "      <td>2.0</td>\n",
       "      <td>180.0</td>\n",
       "      <td>424.0</td>\n",
       "      <td>12.0</td>\n",
       "      <td>7.0</td>\n",
       "      <td>25.665631</td>\n",
       "      <td>100.0</td>\n",
       "      <td>0</td>\n",
       "    </tr>\n",
       "    <tr>\n",
       "      <th>1</th>\n",
       "      <td>58.0</td>\n",
       "      <td>100.0</td>\n",
       "      <td>999.0</td>\n",
       "      <td>1.0</td>\n",
       "      <td>48.6</td>\n",
       "      <td>9.0</td>\n",
       "      <td>4.7</td>\n",
       "      <td>242.0</td>\n",
       "      <td>108.0</td>\n",
       "      <td>1.97</td>\n",
       "      <td>6.8</td>\n",
       "      <td>1.0</td>\n",
       "      <td>150.0</td>\n",
       "      <td>336.0</td>\n",
       "      <td>32.1</td>\n",
       "      <td>5.2</td>\n",
       "      <td>26.462807</td>\n",
       "      <td>50.0</td>\n",
       "      <td>1</td>\n",
       "    </tr>\n",
       "    <tr>\n",
       "      <th>2</th>\n",
       "      <td>44.0</td>\n",
       "      <td>70.0</td>\n",
       "      <td>301.0</td>\n",
       "      <td>2.0</td>\n",
       "      <td>43.8</td>\n",
       "      <td>31.0</td>\n",
       "      <td>4.3</td>\n",
       "      <td>222.0</td>\n",
       "      <td>121.0</td>\n",
       "      <td>1.57</td>\n",
       "      <td>7.3</td>\n",
       "      <td>2.0</td>\n",
       "      <td>120.0</td>\n",
       "      <td>349.0</td>\n",
       "      <td>34.7</td>\n",
       "      <td>6.6</td>\n",
       "      <td>23.574536</td>\n",
       "      <td>50.0</td>\n",
       "      <td>1</td>\n",
       "    </tr>\n",
       "    <tr>\n",
       "      <th>3</th>\n",
       "      <td>71.0</td>\n",
       "      <td>75.0</td>\n",
       "      <td>100.0</td>\n",
       "      <td>1.0</td>\n",
       "      <td>44.9</td>\n",
       "      <td>23.0</td>\n",
       "      <td>4.5</td>\n",
       "      <td>259.0</td>\n",
       "      <td>85.0</td>\n",
       "      <td>1.43</td>\n",
       "      <td>7.4</td>\n",
       "      <td>1.0</td>\n",
       "      <td>180.0</td>\n",
       "      <td>321.0</td>\n",
       "      <td>26.5</td>\n",
       "      <td>7.5</td>\n",
       "      <td>24.201035</td>\n",
       "      <td>105.0</td>\n",
       "      <td>0</td>\n",
       "    </tr>\n",
       "    <tr>\n",
       "      <th>4</th>\n",
       "      <td>59.0</td>\n",
       "      <td>78.0</td>\n",
       "      <td>283.0</td>\n",
       "      <td>1.0</td>\n",
       "      <td>77.7</td>\n",
       "      <td>4.0</td>\n",
       "      <td>4.1</td>\n",
       "      <td>247.0</td>\n",
       "      <td>170.0</td>\n",
       "      <td>1.74</td>\n",
       "      <td>7.2</td>\n",
       "      <td>1.0</td>\n",
       "      <td>132.0</td>\n",
       "      <td>356.0</td>\n",
       "      <td>47.8</td>\n",
       "      <td>8.9</td>\n",
       "      <td>29.940744</td>\n",
       "      <td>54.0</td>\n",
       "      <td>1</td>\n",
       "    </tr>\n",
       "  </tbody>\n",
       "</table>\n",
       "</div>"
      ],
      "text/plain": [
       "    Age  Diastolic BP  Poverty index  Race  Red blood cells  \\\n",
       "0  74.0          80.0          120.0   1.0             44.8   \n",
       "1  58.0         100.0          999.0   1.0             48.6   \n",
       "2  44.0          70.0          301.0   2.0             43.8   \n",
       "3  71.0          75.0          100.0   1.0             44.9   \n",
       "4  59.0          78.0          283.0   1.0             77.7   \n",
       "\n",
       "   Sedimentation rate  Serum Albumin  Serum Cholesterol  Serum Iron  \\\n",
       "0                 6.0            4.2              239.0        51.0   \n",
       "1                 9.0            4.7              242.0       108.0   \n",
       "2                31.0            4.3              222.0       121.0   \n",
       "3                23.0            4.5              259.0        85.0   \n",
       "4                 4.0            4.1              247.0       170.0   \n",
       "\n",
       "   Serum Magnesium  Serum Protein  Sex  Systolic BP   TIBC    TS  \\\n",
       "0             1.52            7.4  2.0        180.0  424.0  12.0   \n",
       "1             1.97            6.8  1.0        150.0  336.0  32.1   \n",
       "2             1.57            7.3  2.0        120.0  349.0  34.7   \n",
       "3             1.43            7.4  1.0        180.0  321.0  26.5   \n",
       "4             1.74            7.2  1.0        132.0  356.0  47.8   \n",
       "\n",
       "   White blood cells        BMI  Pulse pressure  y  \n",
       "0                7.0  25.665631           100.0  0  \n",
       "1                5.2  26.462807            50.0  1  \n",
       "2                6.6  23.574536            50.0  1  \n",
       "3                7.5  24.201035           105.0  0  \n",
       "4                8.9  29.940744            54.0  1  "
      ]
     },
     "execution_count": 55,
     "metadata": {},
     "output_type": "execute_result"
    }
   ],
   "source": [
    "# impute X_data with KNN imputer, n_neighbors = 1\n",
    "\n",
    "imputer = KNNImputer(n_neighbors=1)\n",
    "X_train_imputed = imputer.fit_transform(X_train)\n",
    "X_test_imputed = imputer.fit_transform(X_test)\n",
    "# print(imputer_result)\n",
    "# print(type(imputer_result))\n",
    "\n",
    "# turn it into a dataframe, rename columns\n",
    "X_train_impute = pd.DataFrame(X_train_imputed, columns = X_data.columns)\n",
    "X_test_impute = pd.DataFrame(X_test_imputed, columns = X_data.columns)\n",
    "\n",
    "y_train = pd.DataFrame(y_train.values, columns = y_data.columns)\n",
    "y_test = pd.DataFrame(y_test.values, columns = y_data.columns)\n",
    "\n",
    "train_imputed = pd.concat([X_train_impute, y_train], axis = 1)\n",
    "test_imputed = pd.concat([X_test_impute, y_test], axis = 1)\n",
    "\n",
    "train_imputed.head()"
   ]
  },
  {
   "cell_type": "code",
   "execution_count": 56,
   "metadata": {},
   "outputs": [
    {
     "data": {
      "text/plain": [
       "Index(['Age', 'Diastolic BP', 'Poverty index', 'Race', 'Red blood cells',\n",
       "       'Sedimentation rate', 'Serum Albumin', 'Serum Cholesterol',\n",
       "       'Serum Iron', 'Serum Magnesium', 'Serum Protein', 'Sex', 'Systolic BP',\n",
       "       'TIBC', 'TS', 'White blood cells', 'BMI', 'Pulse pressure'],\n",
       "      dtype='object')"
      ]
     },
     "execution_count": 56,
     "metadata": {},
     "output_type": "execute_result"
    }
   ],
   "source": [
    "X_train_impute.columns"
   ]
  },
  {
   "cell_type": "code",
   "execution_count": 57,
   "metadata": {},
   "outputs": [],
   "source": [
    "train_sex = X_train_impute['Sex'].subtract(1)\n",
    "X_train_impute['Sex'] = train_sex\n",
    "\n",
    "test_sex = X_test_impute['Sex'].subtract(1)\n",
    "X_test_impute['Sex'] = test_sex\n",
    "\n",
    "train_race = X_train_impute['Race'].subtract(1)\n",
    "X_train_impute['Race'] = train_race\n",
    "\n",
    "test_race = X_test_impute['Race'].subtract(1)\n",
    "X_test_impute['Race'] = test_race"
   ]
  },
  {
   "cell_type": "code",
   "execution_count": 58,
   "metadata": {},
   "outputs": [
    {
     "data": {
      "text/html": [
       "<div>\n",
       "<style scoped>\n",
       "    .dataframe tbody tr th:only-of-type {\n",
       "        vertical-align: middle;\n",
       "    }\n",
       "\n",
       "    .dataframe tbody tr th {\n",
       "        vertical-align: top;\n",
       "    }\n",
       "\n",
       "    .dataframe thead th {\n",
       "        text-align: right;\n",
       "    }\n",
       "</style>\n",
       "<table border=\"1\" class=\"dataframe\">\n",
       "  <thead>\n",
       "    <tr style=\"text-align: right;\">\n",
       "      <th></th>\n",
       "      <th>Age</th>\n",
       "      <th>Diastolic BP</th>\n",
       "      <th>Poverty index</th>\n",
       "      <th>Race</th>\n",
       "      <th>Red blood cells</th>\n",
       "      <th>Sedimentation rate</th>\n",
       "      <th>Serum Albumin</th>\n",
       "      <th>Serum Cholesterol</th>\n",
       "      <th>Serum Iron</th>\n",
       "      <th>Serum Magnesium</th>\n",
       "      <th>Serum Protein</th>\n",
       "      <th>Sex</th>\n",
       "      <th>Systolic BP</th>\n",
       "      <th>TIBC</th>\n",
       "      <th>TS</th>\n",
       "      <th>White blood cells</th>\n",
       "      <th>BMI</th>\n",
       "      <th>Pulse pressure</th>\n",
       "    </tr>\n",
       "  </thead>\n",
       "  <tbody>\n",
       "    <tr>\n",
       "      <th>0</th>\n",
       "      <td>74.0</td>\n",
       "      <td>80.0</td>\n",
       "      <td>120.0</td>\n",
       "      <td>0.0</td>\n",
       "      <td>44.8</td>\n",
       "      <td>6.0</td>\n",
       "      <td>4.2</td>\n",
       "      <td>239.0</td>\n",
       "      <td>51.0</td>\n",
       "      <td>1.52</td>\n",
       "      <td>7.4</td>\n",
       "      <td>1.0</td>\n",
       "      <td>180.0</td>\n",
       "      <td>424.0</td>\n",
       "      <td>12.0</td>\n",
       "      <td>7.0</td>\n",
       "      <td>25.665631</td>\n",
       "      <td>100.0</td>\n",
       "    </tr>\n",
       "    <tr>\n",
       "      <th>1</th>\n",
       "      <td>58.0</td>\n",
       "      <td>100.0</td>\n",
       "      <td>999.0</td>\n",
       "      <td>0.0</td>\n",
       "      <td>48.6</td>\n",
       "      <td>9.0</td>\n",
       "      <td>4.7</td>\n",
       "      <td>242.0</td>\n",
       "      <td>108.0</td>\n",
       "      <td>1.97</td>\n",
       "      <td>6.8</td>\n",
       "      <td>0.0</td>\n",
       "      <td>150.0</td>\n",
       "      <td>336.0</td>\n",
       "      <td>32.1</td>\n",
       "      <td>5.2</td>\n",
       "      <td>26.462807</td>\n",
       "      <td>50.0</td>\n",
       "    </tr>\n",
       "    <tr>\n",
       "      <th>2</th>\n",
       "      <td>44.0</td>\n",
       "      <td>70.0</td>\n",
       "      <td>301.0</td>\n",
       "      <td>1.0</td>\n",
       "      <td>43.8</td>\n",
       "      <td>31.0</td>\n",
       "      <td>4.3</td>\n",
       "      <td>222.0</td>\n",
       "      <td>121.0</td>\n",
       "      <td>1.57</td>\n",
       "      <td>7.3</td>\n",
       "      <td>1.0</td>\n",
       "      <td>120.0</td>\n",
       "      <td>349.0</td>\n",
       "      <td>34.7</td>\n",
       "      <td>6.6</td>\n",
       "      <td>23.574536</td>\n",
       "      <td>50.0</td>\n",
       "    </tr>\n",
       "    <tr>\n",
       "      <th>3</th>\n",
       "      <td>71.0</td>\n",
       "      <td>75.0</td>\n",
       "      <td>100.0</td>\n",
       "      <td>0.0</td>\n",
       "      <td>44.9</td>\n",
       "      <td>23.0</td>\n",
       "      <td>4.5</td>\n",
       "      <td>259.0</td>\n",
       "      <td>85.0</td>\n",
       "      <td>1.43</td>\n",
       "      <td>7.4</td>\n",
       "      <td>0.0</td>\n",
       "      <td>180.0</td>\n",
       "      <td>321.0</td>\n",
       "      <td>26.5</td>\n",
       "      <td>7.5</td>\n",
       "      <td>24.201035</td>\n",
       "      <td>105.0</td>\n",
       "    </tr>\n",
       "    <tr>\n",
       "      <th>4</th>\n",
       "      <td>59.0</td>\n",
       "      <td>78.0</td>\n",
       "      <td>283.0</td>\n",
       "      <td>0.0</td>\n",
       "      <td>77.7</td>\n",
       "      <td>4.0</td>\n",
       "      <td>4.1</td>\n",
       "      <td>247.0</td>\n",
       "      <td>170.0</td>\n",
       "      <td>1.74</td>\n",
       "      <td>7.2</td>\n",
       "      <td>0.0</td>\n",
       "      <td>132.0</td>\n",
       "      <td>356.0</td>\n",
       "      <td>47.8</td>\n",
       "      <td>8.9</td>\n",
       "      <td>29.940744</td>\n",
       "      <td>54.0</td>\n",
       "    </tr>\n",
       "  </tbody>\n",
       "</table>\n",
       "</div>"
      ],
      "text/plain": [
       "    Age  Diastolic BP  Poverty index  Race  Red blood cells  \\\n",
       "0  74.0          80.0          120.0   0.0             44.8   \n",
       "1  58.0         100.0          999.0   0.0             48.6   \n",
       "2  44.0          70.0          301.0   1.0             43.8   \n",
       "3  71.0          75.0          100.0   0.0             44.9   \n",
       "4  59.0          78.0          283.0   0.0             77.7   \n",
       "\n",
       "   Sedimentation rate  Serum Albumin  Serum Cholesterol  Serum Iron  \\\n",
       "0                 6.0            4.2              239.0        51.0   \n",
       "1                 9.0            4.7              242.0       108.0   \n",
       "2                31.0            4.3              222.0       121.0   \n",
       "3                23.0            4.5              259.0        85.0   \n",
       "4                 4.0            4.1              247.0       170.0   \n",
       "\n",
       "   Serum Magnesium  Serum Protein  Sex  Systolic BP   TIBC    TS  \\\n",
       "0             1.52            7.4  1.0        180.0  424.0  12.0   \n",
       "1             1.97            6.8  0.0        150.0  336.0  32.1   \n",
       "2             1.57            7.3  1.0        120.0  349.0  34.7   \n",
       "3             1.43            7.4  0.0        180.0  321.0  26.5   \n",
       "4             1.74            7.2  0.0        132.0  356.0  47.8   \n",
       "\n",
       "   White blood cells        BMI  Pulse pressure  \n",
       "0                7.0  25.665631           100.0  \n",
       "1                5.2  26.462807            50.0  \n",
       "2                6.6  23.574536            50.0  \n",
       "3                7.5  24.201035           105.0  \n",
       "4                8.9  29.940744            54.0  "
      ]
     },
     "execution_count": 58,
     "metadata": {},
     "output_type": "execute_result"
    }
   ],
   "source": [
    "X_train_impute.head()\n",
    "\n"
   ]
  },
  {
   "cell_type": "code",
   "execution_count": 70,
   "metadata": {},
   "outputs": [
    {
     "name": "stdout",
     "output_type": "stream",
     "text": [
      "0.3910417715148465\n"
     ]
    }
   ],
   "source": [
    "# Baseline KNN regression model on dropped data\n",
    "baseline_kNN_model = KNeighborsClassifier(n_neighbors=len(X_train_impute)).fit(X_train_impute,y_train.values.ravel())\n",
    "    \n",
    "y_pred = baseline_kNN_model.predict(X_test_impute)\n",
    "\n",
    "baseline_kNN_model_accuracy = mean_squared_error(y_pred,y_test)\n",
    "print(baseline_kNN_model_accuracy)"
   ]
  },
  {
   "cell_type": "code",
   "execution_count": 71,
   "metadata": {},
   "outputs": [
    {
     "name": "stdout",
     "output_type": "stream",
     "text": [
      "0.7523905385002516\n"
     ]
    }
   ],
   "source": [
    "# Logistic regression model on dropped data\n",
    "logit_base = LogisticRegression(max_iter=10000).fit(X_train_impute,y_train.values.ravel())\n",
    "y_pred = logit_base.predict(X_test_impute)\n",
    "\n",
    "logit_base_test_accuracy = accuracy_score(y_pred,y_test)\n",
    "print(logit_base_test_accuracy)"
   ]
  },
  {
   "cell_type": "code",
   "execution_count": 72,
   "metadata": {},
   "outputs": [],
   "source": [
    "# Logistic Regression with Lasso Regularization - Ray"
   ]
  },
  {
   "cell_type": "code",
   "execution_count": 104,
   "metadata": {},
   "outputs": [],
   "source": [
    "# Cross-Validated kNN Classification - Vineet\n",
    "# include plots of training and validation accuracy maybe\n",
    "\n",
    "k_list = [1,2,3,4,5,7,10,15,20,25,40,50,75,80,100]\n",
    "\n",
    "validation_error = []\n",
    "training_error = []\n",
    "\n",
    "for k in k_list:\n",
    "    knn = KNeighborsClassifier(n_neighbors=k)\n",
    "    knn.fit(X_train_impute, y_train.values.ravel())\n",
    "    \n",
    "    accuracies = cross_validate(knn, X_train_impute, y_train.values.ravel(), scoring = \"accuracy\", cv=5, return_train_score=True)\n",
    "\n",
    "    # Compute the validation errors got after cross validation\n",
    "    train_acc = accuracies['train_score'].mean()\n",
    "    val_acc =  accuracies['test_score'].mean()\n",
    "    \n",
    "    # Append the Accuracies to their respective lists     \n",
    "    validation_error.append(val_acc)\n",
    "    training_error.append(train_acc)"
   ]
  },
  {
   "cell_type": "code",
   "execution_count": 105,
   "metadata": {},
   "outputs": [
    {
     "name": "stdout",
     "output_type": "stream",
     "text": [
      "20\n"
     ]
    }
   ],
   "source": [
    "max_val = max(validation_error)\n",
    "k = k_list[validation_error.index(max_val)]\n",
    "print(k)"
   ]
  },
  {
   "cell_type": "code",
   "execution_count": 106,
   "metadata": {},
   "outputs": [
    {
     "data": {
      "text/plain": [
       "<matplotlib.legend.Legend at 0x7ffd1dfc8710>"
      ]
     },
     "execution_count": 106,
     "metadata": {},
     "output_type": "execute_result"
    },
    {
     "data": {
      "image/png": "[encoded data removed]",
      "text/plain": [
       "<Figure size 432x288 with 1 Axes>"
      ]
     },
     "metadata": {
      "needs_background": "light"
     },
     "output_type": "display_data"
    }
   ],
   "source": [
    "# scatter plot and line for training acc\n",
    "plt.scatter(k_list,training_error, color=\"b\")\n",
    "plt.plot(k_list,training_error, color=\"b\", label=\"Training Accuracies\")\n",
    "\n",
    "# scatter plot and line for val acc\n",
    "plt.scatter(k_list,validation_error, color=\"r\")\n",
    "plt.plot(k_list,validation_error, color=\"r\", label=\"Validation Accuracies\")\n",
    "\n",
    "# Labels, axes, and legend\n",
    "plt.title(\"Training and Validation Accuracies for each k in KNN Classification\")\n",
    "plt.xlabel(\"Value of k\")\n",
    "plt.ylabel(\"Accuracy\")\n",
    "plt.legend(loc = 'upper left', fontsize = 12)"
   ]
  },
  {
   "cell_type": "code",
   "execution_count": 107,
   "metadata": {},
   "outputs": [
    {
     "data": {
      "text/plain": [
       "KNeighborsClassifier(n_neighbors=20)"
      ]
     },
     "execution_count": 107,
     "metadata": {},
     "output_type": "execute_result"
    }
   ],
   "source": [
    "best_knn = KNeighborsClassifier(n_neighbors=k)\n",
    "best_knn.fit(X_train_impute, y_train.values.ravel())"
   ]
  },
  {
   "cell_type": "code",
   "execution_count": 108,
   "metadata": {},
   "outputs": [
    {
     "name": "stdout",
     "output_type": "stream",
     "text": [
      "The overall test classification accuracy as a percentage is:  68.64620000000001\n"
     ]
    }
   ],
   "source": [
    "y_test_pred = best_knn.predict(X_test_impute)\n",
    "\n",
    "best_knn_test_acccuracy = accuracy_score(y_test_pred, y_test)\n",
    "\n",
    "print(\"The overall test classification accuracy as a percentage is: \", round(best_knn_test_acccuracy,6)*100)\\"
   ]
  },
  {
   "cell_type": "code",
   "execution_count": 74,
   "metadata": {},
   "outputs": [],
   "source": [
    "# Cross-Validated Logistic Regression with Lasso Regularization - Ray"
   ]
  },
  {
   "cell_type": "code",
   "execution_count": 75,
   "metadata": {},
   "outputs": [],
   "source": [
    "# Cross-Validated Logistic Regression with Ridge Regularization - Ray"
   ]
  },
  {
   "cell_type": "code",
   "execution_count": 76,
   "metadata": {},
   "outputs": [],
   "source": [
    "# Single Decision Tree Cross-Validated for parameters - Leonard"
   ]
  },
  {
   "cell_type": "code",
   "execution_count": 77,
   "metadata": {},
   "outputs": [],
   "source": [
    "# Bagging - Leonard"
   ]
  },
  {
   "cell_type": "code",
   "execution_count": 113,
   "metadata": {},
   "outputs": [
    {
     "data": {
      "text/plain": [
       "Text(0, 0.5, 'staged score')"
      ]
     },
     "execution_count": 113,
     "metadata": {},
     "output_type": "execute_result"
    },
    {
     "data": {
      "image/png": "[encoded data removed]",
      "text/plain": [
       "<Figure size 432x288 with 1 Axes>"
      ]
     },
     "metadata": {
      "needs_background": "light"
     },
     "output_type": "display_data"
    }
   ],
   "source": [
    "# Boosting - Vineet\n",
    "boost = AdaBoostClassifier(base_estimator=DecisionTreeClassifier(max_depth=3), learning_rate=0.05, n_estimators=800)\n",
    "boost.fit(X_train_impute,y_train.values.ravel())\n",
    "\n",
    "boost_train_staged_score = list(boost.staged_score(X_train_impute,y_train.values.ravel()))\n",
    "boost_test_staged_score = list(boost.staged_score(X_test_impute,y_test.values.ravel()))\n",
    "\n",
    "plt.plot(range(1,801), boost_train_staged_score, label = \"train staged score\")\n",
    "plt.plot(range(1,801), boost_test_staged_score, label = \"test staged score\")\n",
    "plt.title(\"Adaboost classifier staged scores for 800 iterations, learning rate .05\")\n",
    "plt.legend()\n",
    "plt.xlabel(\"number of iterations\")\n",
    "plt.ylabel(\"staged score\")"
   ]
  },
  {
   "cell_type": "code",
   "execution_count": 115,
   "metadata": {},
   "outputs": [
    {
     "data": {
      "image/png": "[encoded data removed]",
      "text/plain": [
       "<Figure size 1440x720 with 4 Axes>"
      ]
     },
     "metadata": {
      "needs_background": "light"
     },
     "output_type": "display_data"
    }
   ],
   "source": [
    "depths = [1,2,3,4]\n",
    "fig, axs = plt.subplots(2,2, figsize=(20,10))\n",
    "\n",
    "fig.tight_layout(pad=3.0)\n",
    "axs = axs.ravel()\n",
    "\n",
    "for i in range(len(depths)):\n",
    "    boost = AdaBoostClassifier(base_estimator=DecisionTreeClassifier(max_depth=depths[i]), learning_rate=0.05, n_estimators=800)\n",
    "    boost.fit(X_train_impute,y_train.values.ravel())\n",
    "\n",
    "    boost_train_staged_score = list(boost.staged_score(X_train_impute,y_train.values.ravel()))\n",
    "    boost_test_staged_score = list(boost.staged_score(X_test_impute,y_test.values.ravel()))\n",
    "\n",
    "    axs[i].plot(range(1,801), boost_train_staged_score, label = \"train staged score\")\n",
    "    axs[i].plot(range(1,801), boost_test_staged_score, label = \"test staged score\")\n",
    "    axs[i].set_title(\"Adaboost classifier staged scores for 800 iterations, learning rate .05, maxdepth \" + str(depths[i]))\n",
    "    axs[i].legend()\n",
    "    axs[i].set_xlabel(\"number of iterations\")\n",
    "    axs[i].set_ylabel(\"staged score\")"
   ]
  },
  {
   "cell_type": "code",
   "execution_count": 119,
   "metadata": {},
   "outputs": [
    {
     "data": {
      "text/plain": [
       "(0.7814977973568282, 0.7569199798691495)"
      ]
     },
     "execution_count": 119,
     "metadata": {},
     "output_type": "execute_result"
    }
   ],
   "source": [
    "boost_depth3 = AdaBoostClassifier(base_estimator=DecisionTreeClassifier(max_depth=3), learning_rate=0.05, n_estimators=120)\n",
    "boost_depth3.fit(X_train_impute,y_train.values.ravel())\n",
    "\n",
    "boost_depth3_train_score = boost_depth3.score(X_train_impute,y_train.values.ravel())\n",
    "boost_depth3_test_score = boost_depth3.score(X_test_impute,y_test.values.ravel())\n",
    "\n",
    "boost_depth3_train_score, boost_depth3_test_score"
   ]
  },
  {
   "cell_type": "code",
   "execution_count": 79,
   "metadata": {},
   "outputs": [],
   "source": [
    "# Random Forest - Sean"
   ]
  },
  {
   "cell_type": "code",
   "execution_count": 80,
   "metadata": {},
   "outputs": [],
   "source": [
    "# Neural net to compare maybe at end if feeling frisky"
   ]
  },
  {
   "cell_type": "code",
   "execution_count": null,
   "metadata": {},
   "outputs": [],
   "source": []
  }
 ],
 "metadata": {
  "kernelspec": {
   "display_name": "Python 3",
   "language": "python",
   "name": "python3"
  },
  "language_info": {
   "codemirror_mode": {
    "name": "ipython",
    "version": 3
   },
   "file_extension": ".py",
   "mimetype": "text/x-python",
   "name": "python",
   "nbconvert_exporter": "python",
   "pygments_lexer": "ipython3",
   "version": "3.7.8"
  }
 },
 "nbformat": 4,
 "nbformat_minor": 4
}

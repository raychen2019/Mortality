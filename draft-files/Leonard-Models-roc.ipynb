{
 "cells": [
  {
   "cell_type": "code",
   "execution_count": 2,
   "metadata": {
    "scrolled": true
   },
   "outputs": [
    {
     "name": "stdout",
     "output_type": "stream",
     "text": [
      "Naive Mean Model Score: 0.5\n",
      "Baseline Logistic Regression Score: 0.7356105810651266\n"
     ]
    },
    {
     "data": {
      "image/png": "[encoded data removed]",
      "text/plain": [
       "<Figure size 432x288 with 1 Axes>"
      ]
     },
     "metadata": {},
     "output_type": "display_data"
    }
   ],
   "source": [
    "%matplotlib inline\n",
    "import math\n",
    "import numpy as np\n",
    "import pandas as pd\n",
    "import seaborn as sns\n",
    "import matplotlib.pyplot as plt\n",
    "import shap\n",
    "import seaborn as sns\n",
    "sns.set(style='whitegrid')\n",
    "pd.set_option('display.width', 1500)\n",
    "pd.set_option('display.max_columns', 100)\n",
    "from sklearn.model_selection import train_test_split\n",
    "from sklearn.preprocessing import PolynomialFeatures\n",
    "from sklearn.preprocessing import StandardScaler\n",
    "from sklearn.model_selection import cross_validate\n",
    "from sklearn.metrics import mean_squared_error\n",
    "from sklearn.linear_model import LinearRegression\n",
    "from sklearn.neighbors import KNeighborsClassifier\n",
    "from sklearn.linear_model import LogisticRegression\n",
    "from sklearn.linear_model import LogisticRegressionCV\n",
    "from sklearn.neighbors import KNeighborsRegressor\n",
    "from sklearn.metrics import accuracy_score\n",
    "from sklearn.metrics import roc_curve\n",
    "from sklearn.metrics import roc_auc_score\n",
    "from sklearn.impute import KNNImputer\n",
    "from sklearn.model_selection import GridSearchCV\n",
    "from sklearn.ensemble import BaggingClassifier\n",
    "from sklearn.tree import DecisionTreeClassifier\n",
    "from sklearn.inspection import permutation_importance\n",
    "\n",
    "np.random.seed(109)\n",
    "\n",
    "X_data = pd.read_csv('NHANESI_X.csv')\n",
    "y_data = pd.read_csv('NHANESI_y.csv')\n",
    "\n",
    "X_data = X_data.drop('Unnamed: 0', axis = 1)\n",
    "y_data = y_data.drop('Unnamed: 0', axis = 1)\n",
    "\n",
    "plt.hist(x=y_data.values, bins=30)\n",
    "plt.xlabel(\"Raw Response Variable Value\")\n",
    "plt.ylabel(\"Count\")\n",
    "plt.title(\"Histogram of Raw Response Variables (Before Processing to 0 or 1)\")\n",
    "\n",
    "y_data['y'] = (abs(y_data['y'])>=18)*1\n",
    "\n",
    "# Splitting data first\n",
    "X_train, X_test, y_train, y_test = train_test_split(X_data, y_data, test_size=0.2,\n",
    "                                                    random_state = 109, shuffle=True, \n",
    "                                                    stratify=y_data['y'])\n",
    "\n",
    "# Standardizing data to aid in model convergence and performance\n",
    "scaler = StandardScaler()\n",
    "X_train_imputed = scaler.fit_transform(X_train)\n",
    "X_test_imputed = scaler.fit_transform(X_test)\n",
    "\n",
    "# Imputing X_data with KNN imputer, n_neighbors = 1 to handle NaN values\n",
    "imputer = KNNImputer(n_neighbors=1)\n",
    "X_train_impute = imputer.fit_transform(X_train_imputed)\n",
    "X_test_impute = imputer.fit_transform(X_test_imputed)\n",
    "\n",
    "# Turning ndarray into DF; resetting column names\n",
    "X_train_impute = pd.DataFrame(X_train_impute, columns = X_data.columns)\n",
    "X_test_impute = pd.DataFrame(X_test_impute, columns = X_data.columns)\n",
    "\n",
    "y_train = pd.DataFrame(y_train.values, columns = y_data.columns)\n",
    "y_test = pd.DataFrame(y_test.values, columns = y_data.columns)\n",
    "\n",
    "# Resetting variable values to aid in interpretabiltiy \n",
    "X_train_impute['Sex'] = X_train_impute['Sex'].subtract(1)\n",
    "X_test_impute['Sex'] = X_test_impute['Sex'].subtract(1)\n",
    "X_train_impute['Race'] = X_train_impute['Race'].subtract(1)\n",
    "X_test_impute['Race'] = X_test_impute['Race'].subtract(1)\n",
    "\n",
    "# Baseline KNN model (n = DF size, so essentially mean) on imputed data\n",
    "baseline_kNN_model = KNeighborsClassifier(n_neighbors=len(X_train_impute)).fit(X_train_impute,y_train.values.ravel())\n",
    "y_pred = baseline_kNN_model.predict(X_test_impute)\n",
    "\n",
    "baseline_kNN_model_accuracy = roc_auc_score(y_test, y_pred)\n",
    "print(\"Naive Mean Model Score:\", baseline_kNN_model_accuracy)\n",
    "\n",
    "# Logistic regression model on dropped data\n",
    "logit_base = LogisticRegression(max_iter=5000).fit(X_train_impute,y_train.values.ravel())\n",
    "y_pred = logit_base.predict(X_test_impute)\n",
    "\n",
    "logit_base_test_accuracy = roc_auc_score(y_test, y_pred)\n",
    "print(\"Baseline Logistic Regression Score:\", logit_base_test_accuracy)"
   ]
  },
  {
   "cell_type": "markdown",
   "metadata": {},
   "source": [
    "## Single Decision Tree (CV) Performance"
   ]
  },
  {
   "cell_type": "code",
   "execution_count": null,
   "metadata": {},
   "outputs": [],
   "source": [
    "from sklearn.tree import DecisionTreeClassifier\n",
    "from sklearn.model_selection import cross_val_score\n",
    "\n",
    "depths = list(range(1, 51))\n",
    "\n",
    "def calc_meanstd(X_train, y_train, depths):\n",
    "    train_scores = []\n",
    "    cvmeans = []\n",
    "    cvstds = []\n",
    "    cv_score_tracker = {}\n",
    "    \n",
    "    for depth in depths:\n",
    "        dtree = DecisionTreeClassifier(max_depth=depth)\n",
    "        dtree.fit(X_train, y_train)\n",
    "        train_score = dtree.score(X_train, y_train)\n",
    "        scores = cross_val_score(dtree, X_train, y_train, cv=5, scoring=\"roc_auc\")\n",
    "        train_scores.append(train_score)\n",
    "        cvmeans.append(scores.mean())\n",
    "        cvstds.append(scores.std())\n",
    "        cv_score_tracker[depth] = scores.mean()\n",
    "        \n",
    "    cvmeans = np.array(cvmeans)\n",
    "    cvstds = np.array(cvstds)\n",
    "    \n",
    "    return cvmeans, cvstds, train_scores, cv_score_tracker\n",
    "\n",
    "cvmeans, cvstds, train_scores, scores_dict = calc_meanstd(X_train_impute, y_train.values.ravel(), depths)\n"
   ]
  },
  {
   "cell_type": "code",
   "execution_count": null,
   "metadata": {},
   "outputs": [],
   "source": [
    "plt.figure(figsize=(15,10))\n",
    "plt.plot(depths, train_scores, label=\"Non-CV Training Scores\")\n",
    "plt.plot(depths, cvmeans, label=\"CV Estimated Mean Score +/- 2 SD\")\n",
    "plt.fill_between(depths, cvmeans - 2*cvstds, cvmeans + 2*cvstds, color=\"C1\", alpha=0.5)\n",
    "plt.legend()\n",
    "plt.title(\"Non-CV Training and CV Accuracy vs. Max Depth\")\n",
    "plt.ylabel(\"Accuracy\")\n",
    "plt.xlabel(\"Max Depth\")\n",
    "plt.xticks(depths);"
   ]
  },
  {
   "cell_type": "code",
   "execution_count": null,
   "metadata": {},
   "outputs": [],
   "source": [
    "best_depth = max(scores_dict, key=scores_dict.get)\n",
    "dtree = DecisionTreeClassifier(max_depth=best_depth).fit(X_train_impute, y_train.values.ravel())\n",
    "best_cv_tree_train_score = dtree.score(X_train_impute, y_train.values.ravel())\n",
    "best_cv_tree_test_score = dtree.score(X_test_impute, y_test)\n",
    "print(f\"Best CV Tree Train Score: {best_cv_tree_train_score}\")\n",
    "print(f\"Best CV Tree Test Score: {best_cv_tree_test_score}\")\n",
    "print(f\"Best Depth: {best_depth}\")\n",
    "                                        "
   ]
  },
  {
   "cell_type": "markdown",
   "metadata": {},
   "source": [
    "### Single Decision Tree Interpretation"
   ]
  },
  {
   "cell_type": "code",
   "execution_count": null,
   "metadata": {},
   "outputs": [],
   "source": [
    "shap_values = shap.TreeExplainer(dtree).shap_values(X_train_impute)\n",
    "shap.summary_plot(shap_values, X_train_impute, plot_type=\"bar\", show=False)\n",
    "plt.title(\"Single Tree SHAP Summary\")\n",
    "plt.savefig(f\"Single_Tree_Plots/Single_Tree_SHAP_Summary\");\n",
    "\n",
    "for i in range(18):\n",
    "    shap.dependence_plot(X_train.columns[i], shap_values[1], X_train_impute, show=False);\n",
    "    plt.title(f\"Single Tree SHAP Dependence: {X_train.columns[i]}\")\n",
    "    plt.savefig(f\"Single_Tree_Plots/Single_Tree_SHAP_Dependence_{X_train.columns[i]}\");\n",
    "    "
   ]
  },
  {
   "cell_type": "markdown",
   "metadata": {},
   "source": [
    "## Decision Trees with Bagging: "
   ]
  },
  {
   "cell_type": "code",
   "execution_count": null,
   "metadata": {},
   "outputs": [],
   "source": [
    "tree_depth = 5\n",
    "model_counts = [1,2,3,4,5,10,20,50,100,200]\n",
    "train_scores = {}\n",
    "test_scores = {}\n",
    "\n",
    "for model_count in model_counts:\n",
    "    bagging_model = BaggingClassifier(DecisionTreeClassifier(max_depth=tree_depth, random_state=69), \n",
    "                                      n_estimators=model_count)\n",
    "\n",
    "    bagging_model.fit(X_train_impute, y_train.values.ravel())\n",
    "\n",
    "    y_pred_train = bagging_model.predict(X_train_impute)\n",
    "    y_pred_test = bagging_model.predict(X_test_impute)\n",
    "\n",
    "    bagging_model_train_accuracy = roc_auc_score(y_train, y_pred_train)\n",
    "    bagging_model_test_accuracy = roc_auc_score(y_test, y_pred_test)\n",
    "    \n",
    "    train_scores[model_count] = bagging_model_train_accuracy\n",
    "    test_scores[model_count] = bagging_model_test_accuracy\n",
    "\n",
    "    \n",
    "best_count = max(test_scores, key=test_scores.get)\n",
    "bagging_model = BaggingClassifier(DecisionTreeClassifier(max_depth=tree_depth, random_state=69), \n",
    "                                      n_estimators=best_count)\n",
    "\n",
    "bagging_model.fit(X_train_impute, y_train.values.ravel())\n",
    "\n",
    "y_pred_train = bagging_model.predict(X_train_impute)\n",
    "y_pred_test = bagging_model.predict(X_test_impute)\n",
    "\n",
    "bagging_model_train_accuracy = roc_auc_score(y_train, y_pred_train)\n",
    "bagging_model_test_accuracy = roc_auc_score(y_test, y_pred_test)\n",
    "\n",
    "print(\"Best Bagging Model Accuracy on Train: \")\n",
    "print(bagging_model_train_accuracy)\n",
    "print(\"\\n Best Bagging Model Accuracy on Test: \")\n",
    "print(bagging_model_test_accuracy)\n",
    "\n",
    "num_trees = list(model_counts)\n",
    "\n",
    "fig = plt.figure(1)\n",
    "plt.plot(num_trees, list(train_scores.values()), label = \"Train Accuracy\")\n",
    "plt.plot(num_trees, list(test_scores.values()), label = \"Test Accuracy\")\n",
    "plt.legend()\n",
    "plt.title(\"Model Accuracy vs. Number of Bootstrapped Trees\")\n",
    "plt.ylabel(\"ROC AUC\")\n",
    "plt.xlabel(\"Number of Trees\")\n",
    "plt.show()\n"
   ]
  },
  {
   "cell_type": "code",
   "execution_count": null,
   "metadata": {},
   "outputs": [],
   "source": [
    "param_grid = {'base_estimator__max_depth' : range(1,11), \n",
    "              'n_estimators' : [1,2,3,4,5,10,20,50,100]}\n",
    "\n",
    "bagging_grid = GridSearchCV(BaggingClassifier(DecisionTreeClassifier()),\n",
    "                                              param_grid, scoring = \"roc_auc\",verbose=1)\n",
    "\n",
    "bagging_grid.fit(X_train_impute, y_train.values.ravel())\n",
    "bagging_grid_best = bagging_grid.best_estimator_\n",
    "\n",
    "y_pred_train = bagging_grid.predict(X_train_impute)\n",
    "y_pred_test = bagging_grid.predict(X_test_impute)\n",
    "bagging_model_train_accuracy = roc_auc_score(y_train, y_pred_train)\n",
    "bagging_model_test_accuracy = roc_auc_score(y_test, y_pred_test)\n",
    "print(f\"Best Grid Search Bagging Model Score on Train: {bagging_model_train_accuracy}\")\n",
    "print(f\"Best Grid Search Bagging Model Score on Test: {bagging_model_test_accuracy}\")\n",
    "                            "
   ]
  },
  {
   "cell_type": "markdown",
   "metadata": {},
   "source": [
    "## Bagging Model Interpretation"
   ]
  },
  {
   "cell_type": "code",
   "execution_count": null,
   "metadata": {},
   "outputs": [],
   "source": [
    "importances = np.mean([tree.feature_importances_ for tree in bagging_grid_best.estimators_], axis=0)\n",
    "std = np.std([tree.feature_importances_ for tree in bagging_grid_best.estimators_], axis=0)\n",
    "indices = np.argsort(importances)\n",
    "\n",
    "features = X_train_impute.columns\n",
    "plt.barh(range(len(indices)), importances[indices], color='b', \n",
    "         xerr=std[indices], align='center', ecolor='orange')\n",
    "plt.title('Feature Importances')\n",
    "plt.yticks(range(len(indices)), [features[i] for i in indices])\n",
    "plt.xlabel('Feature Importance')\n",
    "plt.xlim(0, 0.7)\n",
    "plt.show()"
   ]
  },
  {
   "cell_type": "code",
   "execution_count": null,
   "metadata": {},
   "outputs": [],
   "source": [
    "r = permutation_importance(bagging_grid, X_test_impute, y_test.values.ravel(), n_repeats=15)                           "
   ]
  },
  {
   "cell_type": "code",
   "execution_count": null,
   "metadata": {},
   "outputs": [],
   "source": [
    "indices = np.argsort(r.importances_mean)\n",
    "std = r.importances_std\n",
    "\n",
    "fig = plt.figure()\n",
    "plt.barh(range(len(indices)), r.importances_mean[indices], color='b', \n",
    "         align='center', xerr=std[indices], ecolor=\"orange\")\n",
    "plt.yticks(range(len(indices)), [features[i] for i in indices])\n",
    "plt.title('Permutation Feature Importances')\n",
    "plt.xlabel('Permutation Feature Importance')\n",
    "plt.xlim(0, 0.25)\n",
    "fig.tight_layout()\n",
    "plt.show()\n"
   ]
  },
  {
   "cell_type": "code",
   "execution_count": null,
   "metadata": {},
   "outputs": [],
   "source": []
  }
 ],
 "metadata": {
  "kernelspec": {
   "display_name": "Python 3",
   "language": "python",
   "name": "python3"
  },
  "language_info": {
   "codemirror_mode": {
    "name": "ipython",
    "version": 3
   },
   "file_extension": ".py",
   "mimetype": "text/x-python",
   "name": "python",
   "nbconvert_exporter": "python",
   "pygments_lexer": "ipython3",
   "version": "3.8.3"
  }
 },
 "nbformat": 4,
 "nbformat_minor": 4
}

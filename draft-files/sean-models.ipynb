{
 "cells": [
  {
   "cell_type": "code",
   "execution_count": 22,
   "metadata": {},
   "outputs": [],
   "source": [
    "%matplotlib inline\n",
    "import math\n",
    "import numpy as np\n",
    "import pandas as pd\n",
    "import seaborn as sns\n",
    "import matplotlib.pyplot as plt\n",
    "\n",
    "from sklearn.model_selection import train_test_split\n",
    "from sklearn.preprocessing import PolynomialFeatures\n",
    "from sklearn.preprocessing import StandardScaler\n",
    "from sklearn.model_selection import cross_validate\n",
    "from sklearn.metrics import mean_squared_error\n",
    "\n",
    "from sklearn.linear_model import LinearRegression\n",
    "from sklearn.neighbors import KNeighborsClassifier\n",
    "from sklearn.linear_model import LogisticRegression\n",
    "from sklearn.linear_model import LogisticRegressionCV\n",
    "from sklearn.neighbors import KNeighborsRegressor\n",
    "\n",
    "from sklearn.metrics import accuracy_score\n",
    "from sklearn.metrics import roc_curve\n",
    "from sklearn.metrics import roc_auc_score\n",
    "\n",
    "from sklearn.impute import KNNImputer\n",
    "\n",
    "np.random.seed(109)"
   ]
  },
  {
   "cell_type": "code",
   "execution_count": 5,
   "metadata": {},
   "outputs": [
    {
     "data": {
      "text/plain": [
       "(array([1525., 2527., 1613.,    4.,  160.,  163.,   44.,   21.,   10.,\n",
       "           7.,    3.,    0.,    0.,    0.,    0.,  518.,  192.,  211.,\n",
       "         214.,  229.,  239.,  257.,  247.,  315.,  304.,  278.,  294.,\n",
       "         280.,  196.,   81.]),\n",
       " array([-22.0586758 , -20.60767123, -19.15666667, -17.7056621 ,\n",
       "        -16.25465753, -14.80365297, -13.3526484 , -11.90164384,\n",
       "        -10.45063927,  -8.9996347 ,  -7.54863014,  -6.09762557,\n",
       "         -4.646621  ,  -3.19561644,  -1.74461187,  -0.29360731,\n",
       "          1.15739726,   2.60840183,   4.05940639,   5.51041096,\n",
       "          6.96141553,   8.41242009,   9.86342466,  11.31442922,\n",
       "         12.76543379,  14.21643836,  15.66744292,  17.11844749,\n",
       "         18.56945205,  20.02045662,  21.47146119]),\n",
       " <BarContainer object of 30 artists>)"
      ]
     },
     "execution_count": 5,
     "metadata": {},
     "output_type": "execute_result"
    },
    {
     "data": {
      "image/png": "[encoded data removed]",
      "text/plain": [
       "<Figure size 432x288 with 1 Axes>"
      ]
     },
     "metadata": {
      "needs_background": "light"
     },
     "output_type": "display_data"
    }
   ],
   "source": [
    "X_data = pd.read_csv('NHANESI_X.csv')\n",
    "y_data = pd.read_csv('NHANESI_y.csv')\n",
    "\n",
    "X_data = X_data.drop('Unnamed: 0', axis = 1)\n",
    "y_data = y_data.drop('Unnamed: 0', axis = 1)\n",
    "\n",
    "plt.hist(x=y_data.values, bins=30)"
   ]
  },
  {
   "cell_type": "code",
   "execution_count": 6,
   "metadata": {},
   "outputs": [
    {
     "name": "stdout",
     "output_type": "stream",
     "text": [
      "1    6048\n",
      "0    3884\n",
      "Name: y, dtype: int64\n",
      "(9932, 18)\n",
      "(9932, 1)\n",
      "(7945, 18) (1987, 18)\n",
      "(7945, 1) (1987, 1)\n"
     ]
    }
   ],
   "source": [
    "y_data['y'] = (abs(y_data['y'])>=18)*1\n",
    "\n",
    "print(y_data['y'].value_counts())\n",
    "\n",
    "X_train, X_test, y_train, y_test = train_test_split(\n",
    "    X_data, y_data, test_size=0.2,  random_state = 109, shuffle=True, stratify=y_data['y']\n",
    ")\n",
    "\n",
    "print(X_data.shape)\n",
    "print(y_data.shape)\n",
    "print(X_train.shape,X_test.shape)\n",
    "print(y_train.shape,y_test.shape)"
   ]
  },
  {
   "cell_type": "code",
   "execution_count": 9,
   "metadata": {},
   "outputs": [
    {
     "name": "stdout",
     "output_type": "stream",
     "text": [
      "X_data # of null values for each predictor:\n",
      "Age                   1339\n",
      "Diastolic BP          1281\n",
      "Poverty index         1339\n",
      "Race                  1339\n",
      "Red blood cells       1339\n",
      "Sedimentation rate     513\n",
      "Serum Albumin         1339\n",
      "Serum Cholesterol     1339\n",
      "Serum Iron            1339\n",
      "Serum Magnesium       1339\n",
      "Serum Protein         1339\n",
      "Sex                   1339\n",
      "Systolic BP           1282\n",
      "TIBC                  1339\n",
      "TS                    1339\n",
      "White blood cells      298\n",
      "BMI                   1339\n",
      "Pulse pressure        1280\n",
      "dtype: int64\n",
      "\n",
      "y_data # of null values for the prediction:\n",
      "y    0\n",
      "dtype: int64\n",
      "Index(['Age', 'Diastolic BP', 'Poverty index', 'Race', 'Red blood cells',\n",
      "       'Sedimentation rate', 'Serum Albumin', 'Serum Cholesterol',\n",
      "       'Serum Iron', 'Serum Magnesium', 'Serum Protein', 'Sex', 'Systolic BP',\n",
      "       'TIBC', 'TS', 'White blood cells', 'BMI', 'Pulse pressure'],\n",
      "      dtype='object')\n",
      "Index(['y'], dtype='object')\n"
     ]
    }
   ],
   "source": [
    "print(\"X_data # of null values for each predictor:\")\n",
    "print(X_data[X_data.isnull().any(axis=1)].count())\n",
    "print(\"\\ny_data # of null values for the prediction:\")\n",
    "print(y_data[y_data.isnull().any(axis=1)].count())\n",
    "\n",
    "print(X_data.columns)\n",
    "print(y_data.columns)\n",
    "\n"
   ]
  },
  {
   "cell_type": "code",
   "execution_count": 10,
   "metadata": {},
   "outputs": [
    {
     "name": "stdout",
     "output_type": "stream",
     "text": [
      "(9932, 19)\n",
      "(8593, 19)\n",
      "(8593, 18)\n",
      "(8593, 1)\n"
     ]
    }
   ],
   "source": [
    "#X_data_dropped = X_data.dropna()\n",
    "#y_data_dropped = y_data.dropna()\n",
    "combined = pd.concat([X_data, y_data], axis = 1)\n",
    "print(combined.shape)\n",
    "\n",
    "combined_dropped = combined.dropna()\n",
    "\n",
    "print(combined_dropped.shape)\n",
    "\n",
    "X_data_dropped = combined_dropped[['Age', 'Diastolic BP', 'Poverty index', 'Race', 'Red blood cells',\n",
    "       'Sedimentation rate', 'Serum Albumin', 'Serum Cholesterol',\n",
    "       'Serum Iron', 'Serum Magnesium', 'Serum Protein', 'Sex', 'Systolic BP',\n",
    "       'TIBC', 'TS', 'White blood cells', 'BMI', 'Pulse pressure']]\n",
    "y_data_dropped = combined_dropped[['y']]\n",
    "\n",
    "print(X_data_dropped.shape)\n",
    "print(y_data_dropped.shape)\n",
    "\n",
    "\n",
    "#knn imputer.fit\n",
    "#choose number of transmitter\n"
   ]
  },
  {
   "cell_type": "code",
   "execution_count": 11,
   "metadata": {},
   "outputs": [
    {
     "data": {
      "text/html": [
       "<div>\n",
       "<style scoped>\n",
       "    .dataframe tbody tr th:only-of-type {\n",
       "        vertical-align: middle;\n",
       "    }\n",
       "\n",
       "    .dataframe tbody tr th {\n",
       "        vertical-align: top;\n",
       "    }\n",
       "\n",
       "    .dataframe thead th {\n",
       "        text-align: right;\n",
       "    }\n",
       "</style>\n",
       "<table border=\"1\" class=\"dataframe\">\n",
       "  <thead>\n",
       "    <tr style=\"text-align: right;\">\n",
       "      <th></th>\n",
       "      <th>Age</th>\n",
       "      <th>Diastolic BP</th>\n",
       "      <th>Poverty index</th>\n",
       "      <th>Race</th>\n",
       "      <th>Red blood cells</th>\n",
       "      <th>Sedimentation rate</th>\n",
       "      <th>Serum Albumin</th>\n",
       "      <th>Serum Cholesterol</th>\n",
       "      <th>Serum Iron</th>\n",
       "      <th>Serum Magnesium</th>\n",
       "      <th>Serum Protein</th>\n",
       "      <th>Sex</th>\n",
       "      <th>Systolic BP</th>\n",
       "      <th>TIBC</th>\n",
       "      <th>TS</th>\n",
       "      <th>White blood cells</th>\n",
       "      <th>BMI</th>\n",
       "      <th>Pulse pressure</th>\n",
       "      <th>y</th>\n",
       "    </tr>\n",
       "  </thead>\n",
       "  <tbody>\n",
       "    <tr>\n",
       "      <th>0</th>\n",
       "      <td>74.0</td>\n",
       "      <td>80.0</td>\n",
       "      <td>120.0</td>\n",
       "      <td>1.0</td>\n",
       "      <td>44.8</td>\n",
       "      <td>6.0</td>\n",
       "      <td>4.2</td>\n",
       "      <td>239.0</td>\n",
       "      <td>51.0</td>\n",
       "      <td>1.52</td>\n",
       "      <td>7.4</td>\n",
       "      <td>2.0</td>\n",
       "      <td>180.0</td>\n",
       "      <td>424.0</td>\n",
       "      <td>12.0</td>\n",
       "      <td>7.0</td>\n",
       "      <td>25.665631</td>\n",
       "      <td>100.0</td>\n",
       "      <td>0</td>\n",
       "    </tr>\n",
       "    <tr>\n",
       "      <th>1</th>\n",
       "      <td>58.0</td>\n",
       "      <td>100.0</td>\n",
       "      <td>999.0</td>\n",
       "      <td>1.0</td>\n",
       "      <td>48.6</td>\n",
       "      <td>9.0</td>\n",
       "      <td>4.7</td>\n",
       "      <td>242.0</td>\n",
       "      <td>108.0</td>\n",
       "      <td>1.97</td>\n",
       "      <td>6.8</td>\n",
       "      <td>1.0</td>\n",
       "      <td>150.0</td>\n",
       "      <td>336.0</td>\n",
       "      <td>32.1</td>\n",
       "      <td>5.2</td>\n",
       "      <td>26.462807</td>\n",
       "      <td>50.0</td>\n",
       "      <td>1</td>\n",
       "    </tr>\n",
       "    <tr>\n",
       "      <th>2</th>\n",
       "      <td>44.0</td>\n",
       "      <td>70.0</td>\n",
       "      <td>301.0</td>\n",
       "      <td>2.0</td>\n",
       "      <td>43.8</td>\n",
       "      <td>31.0</td>\n",
       "      <td>4.3</td>\n",
       "      <td>222.0</td>\n",
       "      <td>121.0</td>\n",
       "      <td>1.57</td>\n",
       "      <td>7.3</td>\n",
       "      <td>2.0</td>\n",
       "      <td>120.0</td>\n",
       "      <td>349.0</td>\n",
       "      <td>34.7</td>\n",
       "      <td>6.6</td>\n",
       "      <td>23.574536</td>\n",
       "      <td>50.0</td>\n",
       "      <td>1</td>\n",
       "    </tr>\n",
       "    <tr>\n",
       "      <th>3</th>\n",
       "      <td>71.0</td>\n",
       "      <td>75.0</td>\n",
       "      <td>100.0</td>\n",
       "      <td>1.0</td>\n",
       "      <td>44.9</td>\n",
       "      <td>23.0</td>\n",
       "      <td>4.5</td>\n",
       "      <td>259.0</td>\n",
       "      <td>85.0</td>\n",
       "      <td>1.43</td>\n",
       "      <td>7.4</td>\n",
       "      <td>1.0</td>\n",
       "      <td>180.0</td>\n",
       "      <td>321.0</td>\n",
       "      <td>26.5</td>\n",
       "      <td>7.5</td>\n",
       "      <td>24.201035</td>\n",
       "      <td>105.0</td>\n",
       "      <td>0</td>\n",
       "    </tr>\n",
       "    <tr>\n",
       "      <th>4</th>\n",
       "      <td>59.0</td>\n",
       "      <td>78.0</td>\n",
       "      <td>283.0</td>\n",
       "      <td>1.0</td>\n",
       "      <td>77.7</td>\n",
       "      <td>4.0</td>\n",
       "      <td>4.1</td>\n",
       "      <td>247.0</td>\n",
       "      <td>170.0</td>\n",
       "      <td>1.74</td>\n",
       "      <td>7.2</td>\n",
       "      <td>1.0</td>\n",
       "      <td>132.0</td>\n",
       "      <td>356.0</td>\n",
       "      <td>47.8</td>\n",
       "      <td>8.9</td>\n",
       "      <td>29.940744</td>\n",
       "      <td>54.0</td>\n",
       "      <td>1</td>\n",
       "    </tr>\n",
       "  </tbody>\n",
       "</table>\n",
       "</div>"
      ],
      "text/plain": [
       "    Age  Diastolic BP  Poverty index  Race  Red blood cells  \\\n",
       "0  74.0          80.0          120.0   1.0             44.8   \n",
       "1  58.0         100.0          999.0   1.0             48.6   \n",
       "2  44.0          70.0          301.0   2.0             43.8   \n",
       "3  71.0          75.0          100.0   1.0             44.9   \n",
       "4  59.0          78.0          283.0   1.0             77.7   \n",
       "\n",
       "   Sedimentation rate  Serum Albumin  Serum Cholesterol  Serum Iron  \\\n",
       "0                 6.0            4.2              239.0        51.0   \n",
       "1                 9.0            4.7              242.0       108.0   \n",
       "2                31.0            4.3              222.0       121.0   \n",
       "3                23.0            4.5              259.0        85.0   \n",
       "4                 4.0            4.1              247.0       170.0   \n",
       "\n",
       "   Serum Magnesium  Serum Protein  Sex  Systolic BP   TIBC    TS  \\\n",
       "0             1.52            7.4  2.0        180.0  424.0  12.0   \n",
       "1             1.97            6.8  1.0        150.0  336.0  32.1   \n",
       "2             1.57            7.3  2.0        120.0  349.0  34.7   \n",
       "3             1.43            7.4  1.0        180.0  321.0  26.5   \n",
       "4             1.74            7.2  1.0        132.0  356.0  47.8   \n",
       "\n",
       "   White blood cells        BMI  Pulse pressure  y  \n",
       "0                7.0  25.665631           100.0  0  \n",
       "1                5.2  26.462807            50.0  1  \n",
       "2                6.6  23.574536            50.0  1  \n",
       "3                7.5  24.201035           105.0  0  \n",
       "4                8.9  29.940744            54.0  1  "
      ]
     },
     "execution_count": 11,
     "metadata": {},
     "output_type": "execute_result"
    }
   ],
   "source": [
    "# impute X_data with KNN imputer, n_neighbors = 1\n",
    "\n",
    "imputer = KNNImputer(n_neighbors=1)\n",
    "X_train_imputed = imputer.fit_transform(X_train)\n",
    "X_test_imputed = imputer.fit_transform(X_test)\n",
    "# print(imputer_result)\n",
    "# print(type(imputer_result))\n",
    "\n",
    "# turn it into a dataframe, rename columns\n",
    "X_train_impute = pd.DataFrame(X_train_imputed, columns = X_data.columns)\n",
    "X_test_impute = pd.DataFrame(X_test_imputed, columns = X_data.columns)\n",
    "\n",
    "y_train = pd.DataFrame(y_train.values, columns = y_data.columns)\n",
    "y_test = pd.DataFrame(y_test.values, columns = y_data.columns)\n",
    "\n",
    "train_imputed = pd.concat([X_train_impute, y_train], axis = 1)\n",
    "test_imputed = pd.concat([X_test_impute, y_test], axis = 1)\n",
    "\n",
    "train_imputed.head()"
   ]
  },
  {
   "cell_type": "code",
   "execution_count": 12,
   "metadata": {},
   "outputs": [
    {
     "data": {
      "text/plain": [
       "Index(['Age', 'Diastolic BP', 'Poverty index', 'Race', 'Red blood cells',\n",
       "       'Sedimentation rate', 'Serum Albumin', 'Serum Cholesterol',\n",
       "       'Serum Iron', 'Serum Magnesium', 'Serum Protein', 'Sex', 'Systolic BP',\n",
       "       'TIBC', 'TS', 'White blood cells', 'BMI', 'Pulse pressure'],\n",
       "      dtype='object')"
      ]
     },
     "execution_count": 12,
     "metadata": {},
     "output_type": "execute_result"
    }
   ],
   "source": [
    "X_train_impute.columns"
   ]
  },
  {
   "cell_type": "code",
   "execution_count": 13,
   "metadata": {},
   "outputs": [],
   "source": [
    "train_sex = X_train_impute['Sex'].subtract(1)\n",
    "X_train_impute['Sex'] = train_sex\n",
    "\n",
    "test_sex = X_test_impute['Sex'].subtract(1)\n",
    "X_test_impute['Sex'] = test_sex\n",
    "\n",
    "train_race = X_train_impute['Race'].subtract(1)\n",
    "X_train_impute['Race'] = train_race\n",
    "\n",
    "test_race = X_test_impute['Race'].subtract(1)\n",
    "X_test_impute['Race'] = test_race"
   ]
  },
  {
   "cell_type": "code",
   "execution_count": 14,
   "metadata": {},
   "outputs": [
    {
     "data": {
      "text/html": [
       "<div>\n",
       "<style scoped>\n",
       "    .dataframe tbody tr th:only-of-type {\n",
       "        vertical-align: middle;\n",
       "    }\n",
       "\n",
       "    .dataframe tbody tr th {\n",
       "        vertical-align: top;\n",
       "    }\n",
       "\n",
       "    .dataframe thead th {\n",
       "        text-align: right;\n",
       "    }\n",
       "</style>\n",
       "<table border=\"1\" class=\"dataframe\">\n",
       "  <thead>\n",
       "    <tr style=\"text-align: right;\">\n",
       "      <th></th>\n",
       "      <th>Age</th>\n",
       "      <th>Diastolic BP</th>\n",
       "      <th>Poverty index</th>\n",
       "      <th>Race</th>\n",
       "      <th>Red blood cells</th>\n",
       "      <th>Sedimentation rate</th>\n",
       "      <th>Serum Albumin</th>\n",
       "      <th>Serum Cholesterol</th>\n",
       "      <th>Serum Iron</th>\n",
       "      <th>Serum Magnesium</th>\n",
       "      <th>Serum Protein</th>\n",
       "      <th>Sex</th>\n",
       "      <th>Systolic BP</th>\n",
       "      <th>TIBC</th>\n",
       "      <th>TS</th>\n",
       "      <th>White blood cells</th>\n",
       "      <th>BMI</th>\n",
       "      <th>Pulse pressure</th>\n",
       "    </tr>\n",
       "  </thead>\n",
       "  <tbody>\n",
       "    <tr>\n",
       "      <th>0</th>\n",
       "      <td>74.0</td>\n",
       "      <td>80.0</td>\n",
       "      <td>120.0</td>\n",
       "      <td>0.0</td>\n",
       "      <td>44.8</td>\n",
       "      <td>6.0</td>\n",
       "      <td>4.2</td>\n",
       "      <td>239.0</td>\n",
       "      <td>51.0</td>\n",
       "      <td>1.52</td>\n",
       "      <td>7.4</td>\n",
       "      <td>1.0</td>\n",
       "      <td>180.0</td>\n",
       "      <td>424.0</td>\n",
       "      <td>12.0</td>\n",
       "      <td>7.0</td>\n",
       "      <td>25.665631</td>\n",
       "      <td>100.0</td>\n",
       "    </tr>\n",
       "    <tr>\n",
       "      <th>1</th>\n",
       "      <td>58.0</td>\n",
       "      <td>100.0</td>\n",
       "      <td>999.0</td>\n",
       "      <td>0.0</td>\n",
       "      <td>48.6</td>\n",
       "      <td>9.0</td>\n",
       "      <td>4.7</td>\n",
       "      <td>242.0</td>\n",
       "      <td>108.0</td>\n",
       "      <td>1.97</td>\n",
       "      <td>6.8</td>\n",
       "      <td>0.0</td>\n",
       "      <td>150.0</td>\n",
       "      <td>336.0</td>\n",
       "      <td>32.1</td>\n",
       "      <td>5.2</td>\n",
       "      <td>26.462807</td>\n",
       "      <td>50.0</td>\n",
       "    </tr>\n",
       "    <tr>\n",
       "      <th>2</th>\n",
       "      <td>44.0</td>\n",
       "      <td>70.0</td>\n",
       "      <td>301.0</td>\n",
       "      <td>1.0</td>\n",
       "      <td>43.8</td>\n",
       "      <td>31.0</td>\n",
       "      <td>4.3</td>\n",
       "      <td>222.0</td>\n",
       "      <td>121.0</td>\n",
       "      <td>1.57</td>\n",
       "      <td>7.3</td>\n",
       "      <td>1.0</td>\n",
       "      <td>120.0</td>\n",
       "      <td>349.0</td>\n",
       "      <td>34.7</td>\n",
       "      <td>6.6</td>\n",
       "      <td>23.574536</td>\n",
       "      <td>50.0</td>\n",
       "    </tr>\n",
       "    <tr>\n",
       "      <th>3</th>\n",
       "      <td>71.0</td>\n",
       "      <td>75.0</td>\n",
       "      <td>100.0</td>\n",
       "      <td>0.0</td>\n",
       "      <td>44.9</td>\n",
       "      <td>23.0</td>\n",
       "      <td>4.5</td>\n",
       "      <td>259.0</td>\n",
       "      <td>85.0</td>\n",
       "      <td>1.43</td>\n",
       "      <td>7.4</td>\n",
       "      <td>0.0</td>\n",
       "      <td>180.0</td>\n",
       "      <td>321.0</td>\n",
       "      <td>26.5</td>\n",
       "      <td>7.5</td>\n",
       "      <td>24.201035</td>\n",
       "      <td>105.0</td>\n",
       "    </tr>\n",
       "    <tr>\n",
       "      <th>4</th>\n",
       "      <td>59.0</td>\n",
       "      <td>78.0</td>\n",
       "      <td>283.0</td>\n",
       "      <td>0.0</td>\n",
       "      <td>77.7</td>\n",
       "      <td>4.0</td>\n",
       "      <td>4.1</td>\n",
       "      <td>247.0</td>\n",
       "      <td>170.0</td>\n",
       "      <td>1.74</td>\n",
       "      <td>7.2</td>\n",
       "      <td>0.0</td>\n",
       "      <td>132.0</td>\n",
       "      <td>356.0</td>\n",
       "      <td>47.8</td>\n",
       "      <td>8.9</td>\n",
       "      <td>29.940744</td>\n",
       "      <td>54.0</td>\n",
       "    </tr>\n",
       "  </tbody>\n",
       "</table>\n",
       "</div>"
      ],
      "text/plain": [
       "    Age  Diastolic BP  Poverty index  Race  Red blood cells  \\\n",
       "0  74.0          80.0          120.0   0.0             44.8   \n",
       "1  58.0         100.0          999.0   0.0             48.6   \n",
       "2  44.0          70.0          301.0   1.0             43.8   \n",
       "3  71.0          75.0          100.0   0.0             44.9   \n",
       "4  59.0          78.0          283.0   0.0             77.7   \n",
       "\n",
       "   Sedimentation rate  Serum Albumin  Serum Cholesterol  Serum Iron  \\\n",
       "0                 6.0            4.2              239.0        51.0   \n",
       "1                 9.0            4.7              242.0       108.0   \n",
       "2                31.0            4.3              222.0       121.0   \n",
       "3                23.0            4.5              259.0        85.0   \n",
       "4                 4.0            4.1              247.0       170.0   \n",
       "\n",
       "   Serum Magnesium  Serum Protein  Sex  Systolic BP   TIBC    TS  \\\n",
       "0             1.52            7.4  1.0        180.0  424.0  12.0   \n",
       "1             1.97            6.8  0.0        150.0  336.0  32.1   \n",
       "2             1.57            7.3  1.0        120.0  349.0  34.7   \n",
       "3             1.43            7.4  0.0        180.0  321.0  26.5   \n",
       "4             1.74            7.2  0.0        132.0  356.0  47.8   \n",
       "\n",
       "   White blood cells        BMI  Pulse pressure  \n",
       "0                7.0  25.665631           100.0  \n",
       "1                5.2  26.462807            50.0  \n",
       "2                6.6  23.574536            50.0  \n",
       "3                7.5  24.201035           105.0  \n",
       "4                8.9  29.940744            54.0  "
      ]
     },
     "execution_count": 14,
     "metadata": {},
     "output_type": "execute_result"
    }
   ],
   "source": [
    "X_train_impute.head()\n",
    "\n"
   ]
  },
  {
   "cell_type": "code",
   "execution_count": 15,
   "metadata": {},
   "outputs": [
    {
     "name": "stdout",
     "output_type": "stream",
     "text": [
      "0.3910417715148465\n"
     ]
    }
   ],
   "source": [
    "# Baseline KNN regression model on dropped data\n",
    "baseline_kNN_model = KNeighborsClassifier(n_neighbors=len(X_train_impute)).fit(X_train_impute,y_train.values.ravel())\n",
    "    \n",
    "y_pred = baseline_kNN_model.predict(X_test_impute)\n",
    "\n",
    "baseline_kNN_model_accuracy = mean_squared_error(y_pred,y_test)\n",
    "print(baseline_kNN_model_accuracy)"
   ]
  },
  {
   "cell_type": "code",
   "execution_count": 16,
   "metadata": {},
   "outputs": [
    {
     "name": "stdout",
     "output_type": "stream",
     "text": [
      "0.7564167086059386\n"
     ]
    }
   ],
   "source": [
    "# Logistic regression model on dropped data\n",
    "logit_base = LogisticRegression(max_iter=10000).fit(X_train_impute,y_train.values.ravel())\n",
    "y_pred = logit_base.predict(X_test_impute)\n",
    "\n",
    "logit_base_test_accuracy = accuracy_score(y_pred,y_test)\n",
    "print(logit_base_test_accuracy)"
   ]
  },
  {
   "cell_type": "code",
   "execution_count": null,
   "metadata": {},
   "outputs": [],
   "source": [
    "# Logistic Regression with Lasso Regularization - Ray"
   ]
  },
  {
   "cell_type": "code",
   "execution_count": null,
   "metadata": {},
   "outputs": [],
   "source": [
    "# Cross-Validated kNN Classification - Vineet\n",
    "# include plots of training and validation accuracy maybe"
   ]
  },
  {
   "cell_type": "code",
   "execution_count": null,
   "metadata": {},
   "outputs": [],
   "source": [
    "# Cross-Validated Logistic Regression with Lasso Regularization - Ray"
   ]
  },
  {
   "cell_type": "code",
   "execution_count": null,
   "metadata": {},
   "outputs": [],
   "source": [
    "# Cross-Validated Logistic Regression with Ridge Regularization - Ray"
   ]
  },
  {
   "cell_type": "code",
   "execution_count": null,
   "metadata": {},
   "outputs": [],
   "source": [
    "# Single Decision Tree Cross-Validated for parameters - Leonard"
   ]
  },
  {
   "cell_type": "code",
   "execution_count": null,
   "metadata": {},
   "outputs": [],
   "source": [
    "# Bagging - Leonard"
   ]
  },
  {
   "cell_type": "code",
   "execution_count": null,
   "metadata": {},
   "outputs": [],
   "source": [
    "# Boosting - Vineet"
   ]
  },
  {
   "cell_type": "code",
   "execution_count": 24,
   "metadata": {},
   "outputs": [
    {
     "name": "stdout",
     "output_type": "stream",
     "text": [
      "Fitting 5 folds for each of 100 candidates, totalling 500 fits\n"
     ]
    },
    {
     "name": "stderr",
     "output_type": "stream",
     "text": [
      "[Parallel(n_jobs=-1)]: Using backend LokyBackend with 8 concurrent workers.\n",
      "[Parallel(n_jobs=-1)]: Done  34 tasks      | elapsed:   26.3s\n",
      "[Parallel(n_jobs=-1)]: Done 184 tasks      | elapsed:  2.6min\n",
      "[Parallel(n_jobs=-1)]: Done 434 tasks      | elapsed:  9.0min\n",
      "[Parallel(n_jobs=-1)]: Done 500 out of 500 | elapsed: 10.6min finished\n"
     ]
    }
   ],
   "source": [
    "# Random Forest - Sean\n",
    "# grid search with 5-fold cross-validation\n",
    "from sklearn.ensemble import RandomForestClassifier\n",
    "from sklearn.model_selection import GridSearchCV\n",
    "\n",
    "hyperF = dict(n_estimators = [500], max_depth = [5, 8, 15, 25, 35],\n",
    "             min_samples_split = [2, 5, 10, 15, 50],\n",
    "             min_samples_leaf = [1, 2, 5, 10])\n",
    "gridF = GridSearchCV(RandomForestClassifier(random_state = 69), hyperF, cv = 5, verbose = 1, n_jobs = -1)\n",
    "bestF = gridF.fit(X_train_impute, y_train.values.ravel())\n",
    "bestF.best_estimator_\n",
    "\n",
    "# should get min_samples_split = 50, max_depth = 15, min_samples_leaf default?"
   ]
  },
  {
   "cell_type": "code",
   "execution_count": 29,
   "metadata": {},
   "outputs": [],
   "source": [
    "# fit the random forest with extracted hyperparameters\n",
    "rf = RandomForestClassifier(n_estimators = 500, max_depth = 15, min_samples_split = 50, random_state = 69)\n",
    "rf.fit(X_train_impute, y_train.values.ravel())\n",
    "\n",
    "# test accuracy\n",
    "y_pred = rf.predict(X_test_impute)\n",
    "rf_test_accuracy = accuracy_score(y_pred, y_test)"
   ]
  },
  {
   "cell_type": "code",
   "execution_count": 31,
   "metadata": {},
   "outputs": [
    {
     "name": "stdout",
     "output_type": "stream",
     "text": [
      "random forest test accuracy is 0.7533970810266734\n"
     ]
    }
   ],
   "source": [
    "print(f\"random forest test accuracy is {rf_test_accuracy}\")"
   ]
  },
  {
   "cell_type": "code",
   "execution_count": 38,
   "metadata": {},
   "outputs": [
    {
     "data": {
      "image/png": "[encoded data removed]",
      "text/plain": [
       "<Figure size 432x288 with 1 Axes>"
      ]
     },
     "metadata": {
      "needs_background": "light"
     },
     "output_type": "display_data"
    }
   ],
   "source": [
    "features = X_train_impute.columns\n",
    "importances = rf.feature_importances_\n",
    "indices = np.argsort(importances)\n",
    "\n",
    "plt.title(\"Random Forest Feature Importances\")\n",
    "plt.barh(range(len(indices)), importances[indices], color = \"b\", align = \"center\")\n",
    "plt.yticks(range(len(indices)), [features[i] for i in indices])\n",
    "plt.xlabel(\"Relative Importance\")\n",
    "plt.show()"
   ]
  },
  {
   "cell_type": "code",
   "execution_count": null,
   "metadata": {},
   "outputs": [],
   "source": [
    "# Neural net to compare maybe at end if feeling frisky"
   ]
  },
  {
   "cell_type": "code",
   "execution_count": null,
   "metadata": {},
   "outputs": [],
   "source": []
  }
 ],
 "metadata": {
  "kernelspec": {
   "display_name": "Python 3",
   "language": "python",
   "name": "python3"
  },
  "language_info": {
   "codemirror_mode": {
    "name": "ipython",
    "version": 3
   },
   "file_extension": ".py",
   "mimetype": "text/x-python",
   "name": "python",
   "nbconvert_exporter": "python",
   "pygments_lexer": "ipython3",
   "version": "3.7.8"
  }
 },
 "nbformat": 4,
 "nbformat_minor": 4
}
